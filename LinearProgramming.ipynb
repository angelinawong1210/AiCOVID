{
  "cells": [
    {
      "cell_type": "markdown",
      "metadata": {
        "id": "view-in-github",
        "colab_type": "text"
      },
      "source": [
        "<a href=\"https://colab.research.google.com/github/angelinawong1210/AiCOVID/blob/main/LinearProgramming.ipynb\" target=\"_parent\"><img src=\"https://colab.research.google.com/assets/colab-badge.svg\" alt=\"Open In Colab\"/></a>"
      ]
    },
    {
      "cell_type": "code",
      "execution_count": null,
      "metadata": {
        "id": "oxMDah5EMhQo"
      },
      "outputs": [],
      "source": [
        "import pandas as pd\n",
        "import numpy as np\n",
        "from scipy.optimize import linprog"
      ]
    },
    {
      "cell_type": "markdown",
      "metadata": {
        "id": "k741tyEFMhQ1"
      },
      "source": [
        "# Linear programming and Optimization using **Scipy** in Python \n",
        "\n"
      ]
    },
    {
      "cell_type": "markdown",
      "metadata": {
        "id": "UqHqEwNfMhQ7"
      },
      "source": [
        "---\n",
        "The structure of file **input.txt** must follow these rules:\n",
        "\n",
        "- The first line is the **Objective function** and **NA** in the end of the line is to fill up the blanks\n",
        "\n",
        "- The following lines are **Constraint Function**: $Ax = b$ or $Ax \\leq b$ or $Ax \\geq b$"
      ]
    },
    {
      "cell_type": "markdown",
      "metadata": {
        "id": "jFlrQgJXMhQ-"
      },
      "source": [
        "- File **input.txt** may look like these: "
      ]
    },
    {
      "cell_type": "code",
      "execution_count": null,
      "metadata": {
        "id": "xYx6O3r8MhRA",
        "outputId": "6016d871-1ee7-4f2b-d1b1-ea3e3f48216a"
      },
      "outputs": [
        {
          "name": "stdout",
          "output_type": "stream",
          "text": [
            "10 15 25 min NA\n",
            "-1 -1 -1 >= -1000\n",
            "-1 2 0 >= 0\n",
            "0 0 -1 <= -340\n",
            "-1 0 0 = 0\n",
            "-1 0 0 >= 0\n",
            "0 0 -1 <= 0"
          ]
        }
      ],
      "source": [
        "with open(\"input.txt\") as f:\n",
        "    for line in f.readlines():\n",
        "        print(line, end=\"\")\n",
        "    f.close()"
      ]
    },
    {
      "cell_type": "markdown",
      "metadata": {
        "id": "qFffjNv2MhRE"
      },
      "source": [
        "---\n",
        "First, read the file **input.txt** and convert it into the table using DataFrame as followed: (let the variables be **df**)"
      ]
    },
    {
      "cell_type": "code",
      "execution_count": null,
      "metadata": {
        "id": "xz_cqkznMhRF",
        "outputId": "1d6c82cc-b890-4549-df2c-09fa530e60a1"
      },
      "outputs": [
        {
          "data": {
            "text/html": [
              "<div>\n",
              "<style scoped>\n",
              "    .dataframe tbody tr th:only-of-type {\n",
              "        vertical-align: middle;\n",
              "    }\n",
              "\n",
              "    .dataframe tbody tr th {\n",
              "        vertical-align: top;\n",
              "    }\n",
              "\n",
              "    .dataframe thead th {\n",
              "        text-align: right;\n",
              "    }\n",
              "</style>\n",
              "<table border=\"1\" class=\"dataframe\">\n",
              "  <thead>\n",
              "    <tr style=\"text-align: right;\">\n",
              "      <th></th>\n",
              "      <th>0</th>\n",
              "      <th>1</th>\n",
              "      <th>2</th>\n",
              "      <th>3</th>\n",
              "      <th>4</th>\n",
              "    </tr>\n",
              "  </thead>\n",
              "  <tbody>\n",
              "    <tr>\n",
              "      <th>0</th>\n",
              "      <td>10</td>\n",
              "      <td>15</td>\n",
              "      <td>25</td>\n",
              "      <td>min</td>\n",
              "      <td>NaN</td>\n",
              "    </tr>\n",
              "    <tr>\n",
              "      <th>1</th>\n",
              "      <td>-1</td>\n",
              "      <td>-1</td>\n",
              "      <td>-1</td>\n",
              "      <td>&gt;=</td>\n",
              "      <td>-1000.0</td>\n",
              "    </tr>\n",
              "    <tr>\n",
              "      <th>2</th>\n",
              "      <td>-1</td>\n",
              "      <td>2</td>\n",
              "      <td>0</td>\n",
              "      <td>&gt;=</td>\n",
              "      <td>0.0</td>\n",
              "    </tr>\n",
              "    <tr>\n",
              "      <th>3</th>\n",
              "      <td>0</td>\n",
              "      <td>0</td>\n",
              "      <td>-1</td>\n",
              "      <td>&lt;=</td>\n",
              "      <td>-340.0</td>\n",
              "    </tr>\n",
              "    <tr>\n",
              "      <th>4</th>\n",
              "      <td>-1</td>\n",
              "      <td>0</td>\n",
              "      <td>0</td>\n",
              "      <td>=</td>\n",
              "      <td>0.0</td>\n",
              "    </tr>\n",
              "    <tr>\n",
              "      <th>5</th>\n",
              "      <td>-1</td>\n",
              "      <td>0</td>\n",
              "      <td>0</td>\n",
              "      <td>&gt;=</td>\n",
              "      <td>0.0</td>\n",
              "    </tr>\n",
              "    <tr>\n",
              "      <th>6</th>\n",
              "      <td>0</td>\n",
              "      <td>0</td>\n",
              "      <td>-1</td>\n",
              "      <td>&lt;=</td>\n",
              "      <td>0.0</td>\n",
              "    </tr>\n",
              "  </tbody>\n",
              "</table>\n",
              "</div>"
            ],
            "text/plain": [
              "    0   1   2    3       4\n",
              "0  10  15  25  min     NaN\n",
              "1  -1  -1  -1   >= -1000.0\n",
              "2  -1   2   0   >=     0.0\n",
              "3   0   0  -1   <=  -340.0\n",
              "4  -1   0   0    =     0.0\n",
              "5  -1   0   0   >=     0.0\n",
              "6   0   0  -1   <=     0.0"
            ]
          },
          "execution_count": 81,
          "metadata": {},
          "output_type": "execute_result"
        }
      ],
      "source": [
        "df = pd.read_table(\"input.txt\", header=None, sep=\"\\s+\")\n",
        "df"
      ]
    },
    {
      "cell_type": "markdown",
      "metadata": {
        "id": "krCJ7ILDMhRG"
      },
      "source": [
        "---\n",
        "To make it is possible for the function to be executed, we have the following conventional:\n",
        "\n",
        "_max_ <center>$cx$</center>\n",
        "when <center> $Ax \\leq b$ </center>\n",
        "\n",
        "or:\n",
        "\n",
        "_min_ <center>$cx$</center>\n",
        "when <center> $Ax \\geq b$ </center>"
      ]
    },
    {
      "cell_type": "markdown",
      "metadata": {
        "id": "rqXmxed0MhRI"
      },
      "source": [
        "The **negative** function will convert the **Constraint** from negative to positive or in reversed. "
      ]
    },
    {
      "cell_type": "code",
      "execution_count": null,
      "metadata": {
        "id": "OuVS7nMnMhRJ"
      },
      "outputs": [],
      "source": [
        "def negative(x):\n",
        "    if type(x) == str:\n",
        "        if x == \"<=\":\n",
        "            x = \">=\"\n",
        "        else:\n",
        "            x = \"<=\"\n",
        "    else:\n",
        "        x = x * (-1)\n",
        "    return x"
      ]
    },
    {
      "cell_type": "markdown",
      "metadata": {
        "id": "E8M9lzVaMhRK"
      },
      "source": [
        "- Next, we have the **inputTransfrom** function to make sure that the input data followed our conventional"
      ]
    },
    {
      "cell_type": "code",
      "execution_count": null,
      "metadata": {
        "id": "cnXLLYbjMhRL"
      },
      "outputs": [],
      "source": [
        "def inputTransfrom(df):\n",
        "\n",
        "    # nếu data chưa đúng format thì sẽ được xử lý lại\n",
        "    col = len(df.columns)-2\n",
        "\n",
        "    for i in range(1, len(df.index)):\n",
        "        if (df[col][i] == \">=\" and df[3][0] == \"max\"):\n",
        "            df.loc[i] = df.loc[i].apply(negative).values\n",
        "        elif (df[col][i] == \"<=\" and df[3][0] == \"min\"):\n",
        "            df.loc[i] = df.loc[i].apply(negative).values\n",
        "\n",
        "\n",
        "    return df"
      ]
    },
    {
      "cell_type": "code",
      "execution_count": null,
      "metadata": {
        "id": "qKpJk730MhRM",
        "outputId": "417fe79b-7a13-401e-c52b-0fdbe72b0ab3"
      },
      "outputs": [
        {
          "data": {
            "text/html": [
              "<div>\n",
              "<style scoped>\n",
              "    .dataframe tbody tr th:only-of-type {\n",
              "        vertical-align: middle;\n",
              "    }\n",
              "\n",
              "    .dataframe tbody tr th {\n",
              "        vertical-align: top;\n",
              "    }\n",
              "\n",
              "    .dataframe thead th {\n",
              "        text-align: right;\n",
              "    }\n",
              "</style>\n",
              "<table border=\"1\" class=\"dataframe\">\n",
              "  <thead>\n",
              "    <tr style=\"text-align: right;\">\n",
              "      <th></th>\n",
              "      <th>0</th>\n",
              "      <th>1</th>\n",
              "      <th>2</th>\n",
              "      <th>3</th>\n",
              "      <th>4</th>\n",
              "    </tr>\n",
              "  </thead>\n",
              "  <tbody>\n",
              "    <tr>\n",
              "      <th>0</th>\n",
              "      <td>10</td>\n",
              "      <td>15</td>\n",
              "      <td>25</td>\n",
              "      <td>min</td>\n",
              "      <td>NaN</td>\n",
              "    </tr>\n",
              "    <tr>\n",
              "      <th>1</th>\n",
              "      <td>-1</td>\n",
              "      <td>-1</td>\n",
              "      <td>-1</td>\n",
              "      <td>&gt;=</td>\n",
              "      <td>-1000.0</td>\n",
              "    </tr>\n",
              "    <tr>\n",
              "      <th>2</th>\n",
              "      <td>-1</td>\n",
              "      <td>2</td>\n",
              "      <td>0</td>\n",
              "      <td>&gt;=</td>\n",
              "      <td>0.0</td>\n",
              "    </tr>\n",
              "    <tr>\n",
              "      <th>3</th>\n",
              "      <td>0</td>\n",
              "      <td>0</td>\n",
              "      <td>1</td>\n",
              "      <td>&gt;=</td>\n",
              "      <td>340.0</td>\n",
              "    </tr>\n",
              "    <tr>\n",
              "      <th>4</th>\n",
              "      <td>-1</td>\n",
              "      <td>0</td>\n",
              "      <td>0</td>\n",
              "      <td>=</td>\n",
              "      <td>0.0</td>\n",
              "    </tr>\n",
              "    <tr>\n",
              "      <th>5</th>\n",
              "      <td>-1</td>\n",
              "      <td>0</td>\n",
              "      <td>0</td>\n",
              "      <td>&gt;=</td>\n",
              "      <td>0.0</td>\n",
              "    </tr>\n",
              "    <tr>\n",
              "      <th>6</th>\n",
              "      <td>0</td>\n",
              "      <td>0</td>\n",
              "      <td>1</td>\n",
              "      <td>&gt;=</td>\n",
              "      <td>-0.0</td>\n",
              "    </tr>\n",
              "  </tbody>\n",
              "</table>\n",
              "</div>"
            ],
            "text/plain": [
              "    0   1   2    3       4\n",
              "0  10  15  25  min     NaN\n",
              "1  -1  -1  -1   >= -1000.0\n",
              "2  -1   2   0   >=     0.0\n",
              "3   0   0   1   >=   340.0\n",
              "4  -1   0   0    =     0.0\n",
              "5  -1   0   0   >=     0.0\n",
              "6   0   0   1   >=    -0.0"
            ]
          },
          "execution_count": 84,
          "metadata": {},
          "output_type": "execute_result"
        }
      ],
      "source": [
        "df = inputTransfrom(df)\n",
        "df"
      ]
    },
    {
      "cell_type": "markdown",
      "metadata": {
        "id": "MeYpl3JPMhRN"
      },
      "source": [
        "Next, append the needed value of $c$, $A$, $b$, using ```.iloc```\n",
        "\n",
        "For the values of $A$, we divide into two cases:\n",
        "\n",
        "*   If  $Ax = b$, assign $A_{eq}$ \n",
        "*   In the other cases, assign  $A_{ub}$\n",
        "\n"
      ]
    },
    {
      "cell_type": "code",
      "execution_count": null,
      "metadata": {
        "id": "iKHadAxnMhRP"
      },
      "outputs": [],
      "source": [
        "col = len(df.columns) - 2\n",
        "\n",
        "c = df.iloc[0, :3].values\n",
        "b = df.iloc[1:, 4].values\n",
        "\n",
        "A_ub = df[~(df[col] == \"=\")].iloc[1:-1, 0:col].values\n",
        "b_ub = df[~(df[col] == \"=\")].iloc[1:-1, 4].values\n",
        "\n",
        "where_equal = list(df[df[col]==\"=\"].index)\n",
        "A_eq = df[df[col] == \"=\"].loc[where_equal].iloc[:, 0:col].values\n",
        "b_eq = df[df[col] == \"=\"].iloc[:, -1].values"
      ]
    },
    {
      "cell_type": "code",
      "execution_count": null,
      "metadata": {
        "id": "2-hWXOCYMhRQ",
        "outputId": "a12efb3d-2692-4bed-e5cb-559ac88f706d"
      },
      "outputs": [
        {
          "name": "stdout",
          "output_type": "stream",
          "text": [
            "[10 15 25]\n",
            "[[-1  0  0]]\n",
            "[0.]\n",
            "[[-1 -1 -1]\n",
            " [-1  2  0]\n",
            " [ 0  0  1]\n",
            " [-1  0  0]]\n",
            "[-1000.     0.   340.     0.]\n"
          ]
        }
      ],
      "source": [
        "print(c)\n",
        "print(A_eq)\n",
        "print(b_eq)\n",
        "print(A_ub)\n",
        "print(b_ub)"
      ]
    },
    {
      "cell_type": "markdown",
      "metadata": {
        "id": "buPyHnc2MhRR"
      },
      "source": [
        "- The final problem is to find the conditions for $x$ and declare the variables ```_bounds``` as followed (e.g if we have $x_1, x_2, x_3 \\geq 0 $, **None** represent $\\infty$ or -$\\infty$ )"
      ]
    },
    {
      "cell_type": "code",
      "execution_count": null,
      "metadata": {
        "id": "kRy89CwfMhRS"
      },
      "outputs": [],
      "source": [
        "x1_bounds = (0, None)\n",
        "x2_bounds = (0, None)\n",
        "x3_bounds = (0, None)"
      ]
    },
    {
      "cell_type": "markdown",
      "metadata": {
        "id": "aqejH3U-MhRT"
      },
      "source": [
        "- Finally, we have variables needed to apply the function ```linprog``` of **Scipy** to solve the linear programming and optimization"
      ]
    },
    {
      "cell_type": "code",
      "execution_count": null,
      "metadata": {
        "id": "QdS6t4E9MhRU"
      },
      "outputs": [],
      "source": [
        "res = linprog(c, A_ub, b_ub, A_eq, b_eq, bounds = [x1_bounds, x2_bounds, x3_bounds])"
      ]
    },
    {
      "cell_type": "code",
      "execution_count": null,
      "metadata": {
        "id": "GvRopLPGMhRV",
        "outputId": "e0952b85-7150-43c7-86f0-1e7a1bbc2eb3"
      },
      "outputs": [
        {
          "name": "stdout",
          "output_type": "stream",
          "text": [
            "     con: array([0.])\n",
            "     fun: 21.163655289804403\n",
            " message: 'The algorithm terminated successfully and determined that the problem is infeasible.'\n",
            "     nit: 3\n",
            "   slack: array([-998.73526158,   -2.09096105,  339.7807421 ,    0.        ])\n",
            "  status: 2\n",
            " success: False\n",
            "       x: array([-0.        ,  1.04548052,  0.2192579 ])\n"
          ]
        }
      ],
      "source": [
        "print(res)"
      ]
    },
    {
      "cell_type": "markdown",
      "metadata": {
        "id": "KDPU2m9CMhRW"
      },
      "source": [
        "- **message**: The algorithm terminated successfully and determined that the problem is infeasible\n",
        "-  **success: False** means there is no solution for this problem \n",
        "- **x** is the approximate solutions "
      ]
    }
  ],
  "metadata": {
    "kernelspec": {
      "display_name": "Python 3 (ipykernel)",
      "language": "python",
      "name": "python3"
    },
    "language_info": {
      "codemirror_mode": {
        "name": "ipython",
        "version": 3
      },
      "file_extension": ".py",
      "mimetype": "text/x-python",
      "name": "python",
      "nbconvert_exporter": "python",
      "pygments_lexer": "ipython3",
      "version": "3.9.12"
    },
    "vscode": {
      "interpreter": {
        "hash": "4325e0ca8418bf67138f3c64edb19ec6f9db145062f87be43ce2f5eb911df38f"
      }
    },
    "colab": {
      "name": "LinearProgramming",
      "provenance": [],
      "include_colab_link": true
    }
  },
  "nbformat": 4,
  "nbformat_minor": 0
}