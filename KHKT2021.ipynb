{
  "nbformat": 4,
  "nbformat_minor": 0,
  "metadata": {
    "colab": {
      "name": "KHKT2021.ipynb",
      "provenance": [],
      "include_colab_link": true
    },
    "kernelspec": {
      "name": "python3",
      "display_name": "Python 3"
    },
    "language_info": {
      "name": "python"
    }
  },
  "cells": [
    {
      "cell_type": "markdown",
      "metadata": {
        "id": "view-in-github",
        "colab_type": "text"
      },
      "source": [
        "<a href=\"https://colab.research.google.com/github/angelinawong1210/KHKT2021/blob/main/KHKT2021.ipynb\" target=\"_parent\"><img src=\"https://colab.research.google.com/assets/colab-badge.svg\" alt=\"Open In Colab\"/></a>"
      ]
    },
    {
      "cell_type": "code",
      "metadata": {
        "colab": {
          "base_uri": "https://localhost:8080/"
        },
        "id": "m73RzRzKzmXT",
        "outputId": "c7365c48-3d34-460c-bf0a-7fff2f2bee8c"
      },
      "source": [
        "from google.colab import drive\n",
        "drive.mount('/content/drive')"
      ],
      "execution_count": 12,
      "outputs": [
        {
          "output_type": "stream",
          "name": "stdout",
          "text": [
            "Drive already mounted at /content/drive; to attempt to forcibly remount, call drive.mount(\"/content/drive\", force_remount=True).\n"
          ]
        }
      ]
    },
    {
      "cell_type": "code",
      "metadata": {
        "id": "nA2DKeHk3kT7"
      },
      "source": [
        "import os \n",
        "os.chdir(\"/content/drive/MyDrive/SAMPLE\")"
      ],
      "execution_count": 15,
      "outputs": []
    },
    {
      "cell_type": "code",
      "metadata": {
        "id": "sQrUT3AaHIrM"
      },
      "source": [
        "from keras.models import load_model\n",
        "from PIL import Image, ImageOps\n",
        "import numpy as np\n",
        " \n",
        "model = load_model('model.h5', compile=False)\n",
        "a = input()\n",
        "image = Image.open(a) \n",
        "rgbimage = Image.new(\"RGB\", image.size)\n",
        "rgbimage.paste(image)\n",
        "rgbimage.save('foo.jpg')\n",
        "data = np.ndarray(shape=(1, 224, 224, 3), dtype=np.float32)\n",
        "image = Image.open('/content/drive/MyDrive/SAMPLE/foo.jpg') \n",
        "\n",
        "size = (224, 224)\n",
        "\n",
        "image = ImageOps.fit(image, size, Image.ANTIALIAS)\n",
        "image_array = np.asarray(image)\n",
        "normalized_image_array = (image_array.astype(np.float32) / 127.5) - 1\n",
        "data[0] = normalized_image_array\n",
        "\n",
        "prediction = model.predict(data)\n",
        "print(prediction) \n",
        "\n",
        "b = np.argmax(prediction)\n",
        "\n",
        "if b == 0: \n",
        "    print('Normal')\n",
        "if b == 1:\n",
        "    print('Lung Cancer')\n",
        "if b == 2: \n",
        "    print('COVID19')\n",
        "if b == 3: \n",
        "    print('Viral Pneumonia')\n",
        "\n",
        "\n"
      ],
      "execution_count": null,
      "outputs": []
    }
  ]
}